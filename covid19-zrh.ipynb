{
 "cells": [
  {
   "cell_type": "raw",
   "metadata": {},
   "source": [
    "<style scoped>\n",
    ".viruslocal-header { color: #4F00AD; text-align: center; font-family: \"Helvetica Neue\", Arial, Helvetica, sans-serif; }\n",
    ".viruslocal-header h1 { font-weight: normal; text-transform: uppercase; font-size: 3em; }\n",
    ".viruslocal-header h1 img { display: inline-block; height: 1em; margin-right: 0.2em; }\n",
    "</style>\n",
    "\n",
    "<div class=\"viruslocal-header\">\n",
    "    <h1><img src=\"./viruslocal.svg\" />Virus<b>Local</b></h1>\n",
    "</div>"
   ]
  },
  {
   "cell_type": "markdown",
   "metadata": {},
   "source": [
    "hi I am **markdown**"
   ]
  },
  {
   "cell_type": "code",
   "execution_count": 1,
   "metadata": {},
   "outputs": [],
   "source": [
    "### Geo data ##################################\n",
    "\n",
    "import json\n",
    "\n",
    "with open('data/plz-ZH-lowres.geojson') as f:\n",
    "    geo_data = json.load(f)\n",
    "\n",
    "# copy plz to be used as key for choro_data\n",
    "for feature in geo_data['features']:\n",
    "    feature['plz'] = feature['properties']['plz']"
   ]
  },
  {
   "cell_type": "code",
   "execution_count": 2,
   "metadata": {},
   "outputs": [],
   "source": [
    "### Covid data ################################\n",
    "\n",
    "import pandas\n",
    "import collections\n",
    "covid_all = pandas.read_excel('data/f3.xlsx')\n",
    "\n",
    "def mk_choro_data(d):\n",
    "    covid_now = covid_all[covid_all['Date'] == str(d)]\n",
    "    # display(covid_now)\n",
    "    return collections.defaultdict(\n",
    "        lambda: 0,\n",
    "        zip(covid_now['PLZ'], covid_now['rate7_100K'])\n",
    "    )"
   ]
  },
  {
   "cell_type": "code",
   "execution_count": 3,
   "metadata": {},
   "outputs": [],
   "source": [
    "### Date slider ###############################\n",
    "\n",
    "import ipywidgets as widgets\n",
    "import pandas as pd\n",
    "from datetime import date, timedelta\n",
    "\n",
    "# TODO when I grow up, I should show the averaging interval, and have a scale underneath\n",
    "\n",
    "start_date = min(covid_all['Date']).date()  # TODO + 7 or what?\n",
    "end_date   = max(covid_all['Date']).date()\n",
    "dates      = pd.date_range(start_date, end_date, freq='D')\n",
    "\n",
    "def show_date(date):\n",
    "    fmt = '%b %d'\n",
    "    interval_start = date - timedelta(days=7)\n",
    "    return '{} - {}'.format(interval_start.strftime(fmt), date.strftime(fmt))\n",
    "\n",
    "options = [(show_date(date), date) for date in dates]\n",
    "\n",
    "date_slider = widgets.SelectionSlider(\n",
    "    options=options,\n",
    "    value=end_date,\n",
    "    description='Date:',\n",
    "    orientation='horizontal',\n",
    "    continuous_update=False,\n",
    "    layout={'width': '400px'},\n",
    ")"
   ]
  },
  {
   "cell_type": "code",
   "execution_count": 4,
   "metadata": {},
   "outputs": [],
   "source": [
    "# from sidecar import Sidecar\n",
    "# sc = Sidecar(title='map')"
   ]
  },
  {
   "cell_type": "code",
   "execution_count": 5,
   "metadata": {},
   "outputs": [
    {
     "data": {
      "application/vnd.jupyter.widget-view+json": {
       "model_id": "2cd23bb45a4746c2a8716b0d3537ed85",
       "version_major": 2,
       "version_minor": 0
      },
      "text/plain": [
       "Map(center=[47.36667, 8.55], controls=(AttributionControl(options=['position', 'prefix'], position='bottomrigh…"
      ]
     },
     "metadata": {},
     "output_type": "display_data"
    }
   ],
   "source": [
    "### Map #######################################\n",
    "\n",
    "import ipyleaflet\n",
    "\n",
    "\n",
    "### TODO move these:\n",
    "\n",
    "# empty_promises = widgets.HTML('I promise to show a graph here one day!')\n",
    "\n",
    "info = widgets.HTML('Hover over an area')\n",
    "# info.layout.width  = '200px'\n",
    "info.layout.margin = '5px 10px'\n",
    "\n",
    "\n",
    "m = ipyleaflet.Map(center=(47.36667, 8.55), zoom=12, zoom_control=False, scroll_wheel_zoom=True)\n",
    "m.layout.height = '600px'\n",
    "\n",
    "m.add_control(ipyleaflet.WidgetControl(widget=date_slider, position='bottomleft'))\n",
    "m.add_control(ipyleaflet.FullScreenControl(position='topright'))\n",
    "m.add_control(ipyleaflet.ZoomControl(position='topright'))\n",
    "m.add_control(ipyleaflet.WidgetControl(widget=info, position='topleft'))\n",
    "\n",
    "\n",
    "# with sc:\n",
    "#     display(m)\n",
    "#     sc.clear_output(wait=True)\n",
    "display(m)"
   ]
  },
  {
   "cell_type": "code",
   "execution_count": 6,
   "metadata": {},
   "outputs": [],
   "source": [
    "from branca.colormap import linear\n",
    "\n",
    "covid_layer = ipyleaflet.Choropleth(\n",
    "    name=\"Covid19 some data ahem TODO\",\n",
    "    geo_data=geo_data,\n",
    "    choro_data=mk_choro_data(date_slider.value),\n",
    "    key_on='plz',\n",
    "    value_min=-30,\n",
    "    value_max=100,\n",
    "    colormap=linear.Purples_07,\n",
    "    style={'fillOpacity': 0.6, 'weight': 2, 'opacity': 0, 'color': '#529'},\n",
    "    hover_style={'opacity': 1}\n",
    ")\n",
    "m.add_layer(covid_layer)\n",
    "\n",
    "def on_date_change(change):\n",
    "    display(change)\n",
    "    covid_layer.choro_data = mk_choro_data(change['new'])\n",
    "    \n",
    "date_slider.observe(on_date_change, names='value')\n",
    "# date_slider.observe(on_date_change)\n",
    "\n",
    "def update_info(feature, **kwargs):\n",
    "    plz = feature['properties']['plz']\n",
    "    info.value = f'''\n",
    "        <span style=\"font-size: 1.6em\">{plz} {feature['properties']['ortbez']}</span><br/>\n",
    "        <b style=\"font-size: 2.2em\">{covid_layer.choro_data[plz]:.2f}</b><br/>\n",
    "        cases/week/100k\n",
    "    '''\n",
    "    \n",
    "covid_layer.on_hover(update_info)"
   ]
  },
  {
   "cell_type": "code",
   "execution_count": null,
   "metadata": {},
   "outputs": [],
   "source": []
  }
 ],
 "metadata": {
  "kernelspec": {
   "display_name": "Python 3",
   "language": "python",
   "name": "python3"
  },
  "language_info": {
   "codemirror_mode": {
    "name": "ipython",
    "version": 3
   },
   "file_extension": ".py",
   "mimetype": "text/x-python",
   "name": "python",
   "nbconvert_exporter": "python",
   "pygments_lexer": "ipython3",
   "version": "3.7.7"
  }
 },
 "nbformat": 4,
 "nbformat_minor": 4
}
